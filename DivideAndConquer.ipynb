{
 "cells": [
  {
   "cell_type": "code",
   "execution_count": 138,
   "metadata": {},
   "outputs": [],
   "source": [
    "from random import random\n",
    "\n",
    "# to generate n points randomly\n",
    "# this is the only input strategy I'm testing!\n",
    "# It is nice in that the random function will never return the\n",
    "# same x or y coordinate for any points\n",
    "# (well, there is some probability, but it's really really small)\n",
    "\n",
    "# Also, I just chose random in the interval 0 to 1\n",
    "# This is still representative, as you could just multiply by any constant\n",
    "# That would create a larger footprint, while the algorithm would work the same\n",
    "\n",
    "def gen_random_points(n):\n",
    "    points = []\n",
    "    for i in range(n):\n",
    "        p = (random(), random())\n",
    "        points.append(p)\n",
    "    return points\n",
    "\n",
    "points = gen_random_points(100)"
   ]
  },
  {
   "cell_type": "code",
   "execution_count": 142,
   "metadata": {},
   "outputs": [
    {
     "data": {
      "text/plain": [
       "(0.013047110295159203, (12, 28))"
      ]
     },
     "execution_count": 142,
     "metadata": {},
     "output_type": "execute_result"
    }
   ],
   "source": [
    "from math import sqrt\n",
    "\n",
    "# this is just a naive search\n",
    "# It calculates pairwise distance and returns the minimum\n",
    "# it also returns the points comprising the minimum\n",
    "def naive_strategy(points):\n",
    "    min_distance = -1\n",
    "    for i in range(len(points)):\n",
    "        for j in range(i+1, len(points)):\n",
    "            d_ij = sqrt((points[i][0] - points[j][0])**2 + (points[i][1] - points[j][1])**2)\n",
    "            if (min_distance == -1) or (d_ij < min_distance):\n",
    "                min_distance = d_ij\n",
    "                closest_points = (i, j)\n",
    "    return min_distance, closest_points\n",
    "\n",
    "naive_strategy(points)"
   ]
  },
  {
   "cell_type": "code",
   "execution_count": 468,
   "metadata": {},
   "outputs": [],
   "source": [
    "# this is just for timing the performance, as I needed to combine both!\n",
    "def naive_time(n):\n",
    "    return naive_strategy(gen_random_points(n))"
   ]
  },
  {
   "cell_type": "code",
   "execution_count": 27,
   "metadata": {},
   "outputs": [],
   "source": [
    "# a simple linear strategy, also for timing purposes\n",
    "# does not compute the correct answer, although does \n",
    "# the operations for one outer for loop iteration\n",
    "def linear_strategy(points):\n",
    "    # just check against points[0]\n",
    "    min_distance = -1\n",
    "    p_0 = points[0]\n",
    "    for i in range(1, len(points)):\n",
    "        d_i0 = sqrt((p_0[0] - points[i][0])**2 + (p_0[1] - points[i][1])**2)\n",
    "        if (min_distance == -1) or (d_i0 < min_distance):\n",
    "            min_distance = d_i0\n",
    "            closest_points = (i, 0)\n",
    "    return min_distance, closest_points\n",
    "\n",
    "def linear_time(n):\n",
    "    return linear_strategy(gen_random_points(n))"
   ]
  },
  {
   "cell_type": "code",
   "execution_count": 70,
   "metadata": {},
   "outputs": [],
   "source": [
    "# need a working merge sort implementation to make the divide and conquer\n",
    "# I chose to do merge sort in place\n",
    "def merge_sort(l, indices):\n",
    "    # base case\n",
    "    if len(l) > 1:\n",
    "        midpoint = len(l)//2\n",
    "        left_half = l[0:midpoint]\n",
    "        left_indices = indices[0:midpoint]\n",
    "        right_half = l[midpoint:len(l)]\n",
    "        right_indices = indices[midpoint:len(l)]\n",
    "        merge_sort(left_half, left_indices)\n",
    "        merge_sort(right_half, right_indices)\n",
    "\n",
    "        i = j = k = 0\n",
    "        while i < len(left_half) and j < len(right_half):\n",
    "            if left_half[i] <= right_half[j]:\n",
    "                l[k] = left_half[i]\n",
    "                indices[k] = left_indices[i]\n",
    "                i += 1\n",
    "                k += 1\n",
    "            elif left_half[i] > right_half[j]:\n",
    "                l[k] = right_half[j]\n",
    "                indices[k] = right_indices[j]\n",
    "                j += 1\n",
    "                k += 1\n",
    "        \n",
    "        while i < len(left_half):\n",
    "            l[k] = left_half[i]\n",
    "            indices[k] = left_indices[i]\n",
    "            i += 1\n",
    "            k += 1\n",
    "\n",
    "        while j < len(right_half):\n",
    "            l[k] = right_half[j]\n",
    "            indices[k] = right_indices[j]\n",
    "            j += 1\n",
    "            k += 1"
   ]
  },
  {
   "cell_type": "code",
   "execution_count": 113,
   "metadata": {},
   "outputs": [],
   "source": [
    "# this function takes the list of indices and returns where each\n",
    "# element is in the other list\n",
    "# this is an important part of the tracking of the points\n",
    "# otherwise would only be able to compute the distance!\n",
    "def get_positions_in_list(x_indices, y_indices):\n",
    "    d_x = {}\n",
    "    d_y = {}\n",
    "\n",
    "    for i in range(len(x_indices)):\n",
    "        d_x[x_indices[i]] = i\n",
    "        d_y[y_indices[i]] = i\n",
    "\n",
    "    x_positions_in_y = []\n",
    "    y_positions_in_x = []\n",
    "\n",
    "    for i in range(len(x_indices)):\n",
    "        x_positions_in_y.append(d_y[x_indices[i]])\n",
    "        y_positions_in_x.append(d_x[y_indices[i]])\n",
    "\n",
    "    return x_positions_in_y, y_positions_in_x"
   ]
  },
  {
   "cell_type": "code",
   "execution_count": 405,
   "metadata": {},
   "outputs": [],
   "source": [
    "from math import floor, ceil\n",
    "\n",
    "# recursive helper function to compute the closest pair of points\n",
    "def closest_pair(p_x, p_y, x_indices, y_indices):\n",
    "    x_positions_in_y, y_positions_in_x = get_positions_in_list(x_indices, y_indices)\n",
    "    # base case:\n",
    "    if len(p_x) <= 3:\n",
    "        points = [(p_x[i], p_y[x_positions_in_y[i]]) for i in range(len(p_x))]\n",
    "        d, points = naive_strategy(points)\n",
    "        first_point = x_indices[points[0]]\n",
    "        second_point = x_indices[points[1]]\n",
    "        if first_point < second_point:\n",
    "            best_points = (first_point, second_point)\n",
    "        else:\n",
    "            best_points = (second_point, first_point)\n",
    "        return d, best_points\n",
    "\n",
    "    # making left and right sets, keep track of indices as well\n",
    "    Q_x = p_x[0:ceil(len(p_x)/2)]\n",
    "    Q_x_indices = x_indices[0:ceil(len(p_y)/2)]\n",
    "\n",
    "    Q_y = []\n",
    "    Q_y_indices = []\n",
    "    for i in range(len(p_y)):\n",
    "        if y_indices[i] in Q_x_indices:\n",
    "            Q_y.append(p_y[i])\n",
    "            Q_y_indices.append(y_indices[i])\n",
    "\n",
    "    R_x = p_x[ceil(len(p_x)/2):len(p_x)]\n",
    "    R_x_indices = x_indices[ceil(len(p_x)/2):len(p_x)]\n",
    "\n",
    "    R_y = []\n",
    "    R_y_indices = []\n",
    "    for i in range(len(p_y)):\n",
    "        if y_indices[i] in R_x_indices:\n",
    "            R_y.append(p_y[i])\n",
    "            R_y_indices.append(y_indices[i])\n",
    "\n",
    "    # recursive call on left and right\n",
    "    q_d, q_points = closest_pair(Q_x, Q_y, Q_x_indices, Q_y_indices)\n",
    "    r_d, r_points = closest_pair(R_x, R_y, R_x_indices, R_y_indices)\n",
    "\n",
    "    # smallest of recursive distances\n",
    "    delta = min(q_d, r_d)\n",
    "\n",
    "    # right most point in Q, where the line L is drawn\n",
    "    x_star = Q_x[-1]\n",
    "\n",
    "    S = []\n",
    "    for i in range(len(p_x)):\n",
    "        if abs(p_x[i] - x_star) < delta:    # this includes x_star\n",
    "            S.append(x_indices[i])\n",
    "    \n",
    "    # S always includes x_star, \n",
    "    # only worry about checking in S if at least one other point\n",
    "    if len(S) > 1:\n",
    "        S_y = []\n",
    "        S_y_indices_in_p_y = []\n",
    "        for i in range(len(p_y)):\n",
    "            if y_indices[i] in S:\n",
    "                S_y.append(p_y[i])\n",
    "                S_y_indices_in_p_y.append(i)\n",
    "        \n",
    "        min_distance_in_s = -1\n",
    "        for i in range(len(S_y)):\n",
    "            for j in range(i+1, min(len(S_y), i+15)):   # the key line, where 15 makes it nlogn!\n",
    "                x_i = p_x[y_positions_in_x[S_y_indices_in_p_y[i]]]      # complicated index tracking, but it works\n",
    "                x_j = p_x[y_positions_in_x[S_y_indices_in_p_y[j]]]\n",
    "                y_i = S_y[i]\n",
    "                y_j = S_y[j]\n",
    "                d_ij = sqrt((x_i - x_j)**2 + (y_i - y_j)**2)\n",
    "                if (min_distance_in_s == -1) or (d_ij < min_distance_in_s):\n",
    "                    min_distance_in_s = d_ij\n",
    "                    first_point = y_indices[S_y_indices_in_p_y[i]]\n",
    "                    second_point = y_indices[S_y_indices_in_p_y[j]]\n",
    "                    if first_point < second_point:\n",
    "                        closest_points_in_s = (first_point, second_point)\n",
    "                    else:\n",
    "                        closest_points_in_s = (second_point, first_point)\n",
    "        \n",
    "    # now we have the shortest distance in S if |S| > 1, compare against delta\n",
    "    if (len(S) > 1) and (min_distance_in_s < delta):\n",
    "        return min_distance_in_s, closest_points_in_s\n",
    "    elif q_d < r_d:\n",
    "        return q_d, q_points\n",
    "    else:\n",
    "        return r_d, r_points\n",
    "    \n",
    "# sets up the initial merge sorted x and y coordinate lists\n",
    "# also tracks the original indices, as required\n",
    "def divide_and_conquer_strategy(points):\n",
    "    p_x = [x[0] for x in points]\n",
    "    x_indices = list(range(len(points)))\n",
    "\n",
    "    p_y = [x[1] for x in points]\n",
    "    y_indices = list(range(len(points)))\n",
    "\n",
    "    merge_sort(p_x, x_indices)\n",
    "    merge_sort(p_y, y_indices)\n",
    "\n",
    "    return closest_pair(p_x, p_y, x_indices, y_indices)"
   ]
  },
  {
   "cell_type": "code",
   "execution_count": 462,
   "metadata": {},
   "outputs": [],
   "source": [
    "# this one is just for timing purposes again\n",
    "def divide_and_conquer_time(n):\n",
    "    divide_and_conquer_strategy(gen_random_points(n))"
   ]
  },
  {
   "cell_type": "code",
   "execution_count": 469,
   "metadata": {},
   "outputs": [
    {
     "name": "stdout",
     "output_type": "stream",
     "text": [
      "(0.0015342947525849243, (4, 84))\n",
      "(0.0015342947525849243, (4, 84))\n"
     ]
    }
   ],
   "source": [
    "# with this block, you can compare the results\n",
    "# of the naive vs the divide and conquer on n many random points\n",
    "# I ran this on all sizes of n and many times\n",
    "# They always return the same. Since there are roughly n^2 possible pairs of points\n",
    "# odds of choosing correctly 1 time is 1/n^2\n",
    "# As I did it at least 20 times on input of size 100,\n",
    "# it is very safe to say that the algorithm is correct\n",
    "# Odds of doing that would be really small!!\n",
    "n = 100\n",
    "points = gen_random_points(n)\n",
    "print(naive_strategy(points))\n",
    "print(divide_and_conquer_strategy(points))"
   ]
  },
  {
   "cell_type": "code",
   "execution_count": 463,
   "metadata": {},
   "outputs": [
    {
     "data": {
      "text/plain": [
       "[<matplotlib.lines.Line2D at 0x7f936061e3d0>]"
      ]
     },
     "execution_count": 463,
     "metadata": {},
     "output_type": "execute_result"
    },
    {
     "data": {
      "image/png": "[encoded data removed]",
      "text/plain": [
       "<Figure size 720x432 with 1 Axes>"
      ]
     },
     "metadata": {
      "needs_background": "light"
     },
     "output_type": "display_data"
    }
   ],
   "source": [
    "# this block is to produce the runtime plot\n",
    "# I generate time series on 50 inputs with lenghts between 10 and 10,000 \n",
    "# it also runs several times for each input, and displays the average\n",
    "\n",
    "# I accidentally forgot to include the line for plotting the divide and conquer\n",
    "# So I cleaned up the graph in the next code block\n",
    "# This takes 15 mins to run (as naive search is very slow on 10,000 length inputs)\n",
    "# so I did not bother running the calculations again\n",
    "\n",
    "import matplotlib.pyplot as plt\n",
    "import numpy as np\n",
    "from timeit import timeit\n",
    "from functools import partial\n",
    "\n",
    "plt.rcParams['figure.figsize'] = [10, 6] # set size of plot\n",
    "\n",
    "ns = np.linspace(10, 10000, 50, dtype=int)\n",
    "\n",
    "naive_ts = [timeit(partial(naive_time, n), number=2) for n in ns]\n",
    "\n",
    "divide_and_conquer_time_ts = [timeit(partial(divide_and_conquer_time, n), number=5) for n in ns]\n",
    "\n",
    "linear_ts = [timeit(partial(linear_time, n), number=100) for n in ns]\n",
    "\n",
    "plt.plot(ns, naive_ts, 'or')\n",
    "plt.plot(ns, linear_ts, 'og')"
   ]
  },
  {
   "cell_type": "code",
   "execution_count": 467,
   "metadata": {},
   "outputs": [
    {
     "data": {
      "text/plain": [
       "Text(0.5, 1.0, 'Runtime comparison of Closest Points in Plane Algorithms')"
      ]
     },
     "execution_count": 467,
     "metadata": {},
     "output_type": "execute_result"
    },
    {
     "data": {
      "image/png": "[encoded data removed]",
      "text/plain": [
       "<Figure size 720x432 with 1 Axes>"
      ]
     },
     "metadata": {
      "needs_background": "light"
     },
     "output_type": "display_data"
    }
   ],
   "source": [
    "plt.plot(ns, naive_ts, 'or', label=\"naive search\")\n",
    "plt.plot(ns, divide_and_conquer_time_ts, 'ob', label=\"divide and conquer\")\n",
    "plt.plot(ns, linear_ts, 'og', label=\"linear search\")\n",
    "plt.xlabel(\"Number of Trials\")\n",
    "plt.ylabel(\"Time in Seconds\")\n",
    "plt.legend(loc=\"best\")\n",
    "plt.title(\"Runtime comparison of Closest Points in Plane Algorithms\")\n",
    "# For linear search, searched one vertex to all other vertices\n",
    "# This does not produce the correct answer, but as the operations are the same,\n",
    "# it does do a good job of showing linear time!"
   ]
  }
 ],
 "metadata": {
  "kernelspec": {
   "display_name": "base",
   "language": "python",
   "name": "python3"
  },
  "language_info": {
   "codemirror_mode": {
    "name": "ipython",
    "version": 3
   },
   "file_extension": ".py",
   "mimetype": "text/x-python",
   "name": "python",
   "nbconvert_exporter": "python",
   "pygments_lexer": "ipython3",
   "version": "3.9.12"
  }
 },
 "nbformat": 4,
 "nbformat_minor": 2
}
